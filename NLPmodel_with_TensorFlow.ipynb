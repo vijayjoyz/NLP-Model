{
  "nbformat": 4,
  "nbformat_minor": 0,
  "metadata": {
    "colab": {
      "name": "NLPmodel with TensorFlow.ipynb",
      "provenance": [],
      "collapsed_sections": [],
      "include_colab_link": true
    },
    "kernelspec": {
      "name": "python3",
      "display_name": "Python 3"
    },
    "accelerator": "GPU"
  },
  "cells": [
    {
      "cell_type": "markdown",
      "metadata": {
        "id": "view-in-github",
        "colab_type": "text"
      },
      "source": [
        "<a href=\"https://colab.research.google.com/github/vijayjoyz/NLP-Model/blob/master/NLPmodel_with_TensorFlow.ipynb\" target=\"_parent\"><img src=\"https://colab.research.google.com/assets/colab-badge.svg\" alt=\"Open In Colab\"/></a>"
      ]
    },
    {
      "cell_type": "markdown",
      "metadata": {
        "id": "x6cb4nEDqpMZ",
        "colab_type": "text"
      },
      "source": [
        "#NLP Model with TensorFlow"
      ]
    },
    {
      "cell_type": "code",
      "metadata": {
        "id": "4gs9htvM7n_x",
        "colab_type": "code",
        "outputId": "468b8665-f738-4ba3-906b-4f27fb7524a0",
        "colab": {
          "base_uri": "https://localhost:8080/",
          "height": 34
        }
      },
      "source": [
        "# Run this to ensure TensorFlow 2.x is used\n",
        "try:\n",
        "  # %tensorflow_version only exists in Colab.\n",
        "  %tensorflow_version 2.x\n",
        "except Exception:\n",
        "  pass"
      ],
      "execution_count": 0,
      "outputs": [
        {
          "output_type": "stream",
          "text": [
            "TensorFlow 2.x selected.\n"
          ],
          "name": "stdout"
        }
      ]
    },
    {
      "cell_type": "code",
      "metadata": {
        "id": "XYYDvoskkE61",
        "colab_type": "code",
        "colab": {}
      },
      "source": [
        "import json\n",
        "import tensorflow as tf\n",
        "\n",
        "from tensorflow.keras.preprocessing.text import Tokenizer\n",
        "from tensorflow.keras.preprocessing.sequence import pad_sequences"
      ],
      "execution_count": 0,
      "outputs": []
    },
    {
      "cell_type": "code",
      "metadata": {
        "id": "0eJSTTYnkJQd",
        "colab_type": "code",
        "colab": {}
      },
      "source": [
        "vocab_size = 10000\n",
        "embedding_dim = 16\n",
        "max_length = 100\n",
        "trunc_type='post'\n",
        "padding_type='post'\n",
        "oov_tok = \"<OOV>\"\n",
        "training_size = 20000\n"
      ],
      "execution_count": 0,
      "outputs": []
    },
    {
      "cell_type": "markdown",
      "metadata": {
        "id": "IjUhctEblJ6e",
        "colab_type": "text"
      },
      "source": [
        "#Dataset \n",
        "We download the dataset which is provided by the people in google."
      ]
    },
    {
      "cell_type": "code",
      "metadata": {
        "id": "BQVuQrZNkPn9",
        "colab_type": "code",
        "outputId": "1a03a62f-c6dd-4f85-8d3d-7ed20594fab5",
        "colab": {
          "base_uri": "https://localhost:8080/",
          "height": 204
        }
      },
      "source": [
        "!wget --no-check-certificate \\\n",
        "    https://storage.googleapis.com/laurencemoroney-blog.appspot.com/sarcasm.json \\\n",
        "    -O /tmp/sarcasm.json\n"
      ],
      "execution_count": 0,
      "outputs": [
        {
          "output_type": "stream",
          "text": [
            "--2020-03-04 20:10:39--  https://storage.googleapis.com/laurencemoroney-blog.appspot.com/sarcasm.json\n",
            "Resolving storage.googleapis.com (storage.googleapis.com)... 74.125.68.128, 2404:6800:4003:c05::80\n",
            "Connecting to storage.googleapis.com (storage.googleapis.com)|74.125.68.128|:443... connected.\n",
            "HTTP request sent, awaiting response... 200 OK\n",
            "Length: 5643545 (5.4M) [application/json]\n",
            "Saving to: ‘/tmp/sarcasm.json’\n",
            "\n",
            "\r/tmp/sarcasm.json     0%[                    ]       0  --.-KB/s               \r/tmp/sarcasm.json   100%[===================>]   5.38M  --.-KB/s    in 0.02s   \n",
            "\n",
            "2020-03-04 20:10:40 (248 MB/s) - ‘/tmp/sarcasm.json’ saved [5643545/5643545]\n",
            "\n"
          ],
          "name": "stdout"
        }
      ]
    },
    {
      "cell_type": "markdown",
      "metadata": {
        "id": "8h2-UWfImhi9",
        "colab_type": "text"
      },
      "source": [
        "#Features & Label\n",
        "From the download json data we take feature and label for training the NLP Classifier Model\n",
        "\n",
        "Feature -> headline\n",
        "\n",
        "Label   -> is_sarcastic"
      ]
    },
    {
      "cell_type": "code",
      "metadata": {
        "id": "oaLaaqhNkUPd",
        "colab_type": "code",
        "colab": {}
      },
      "source": [
        "with open(\"/tmp/sarcasm.json\", 'r') as f:\n",
        "    datastore = json.load(f)\n",
        "\n",
        "sentences = []\n",
        "labels = []\n",
        "\n",
        "for item in datastore:\n",
        "    sentences.append(item['headline'])\n",
        "    labels.append(item['is_sarcastic'])"
      ],
      "execution_count": 0,
      "outputs": []
    },
    {
      "cell_type": "code",
      "metadata": {
        "id": "S1sD-7v0kYWk",
        "colab_type": "code",
        "colab": {}
      },
      "source": [
        "training_sentences = sentences[0:training_size]\n",
        "testing_sentences = sentences[training_size:]\n",
        "training_labels = labels[0:training_size]\n",
        "testing_labels = labels[training_size:]"
      ],
      "execution_count": 0,
      "outputs": []
    },
    {
      "cell_type": "markdown",
      "metadata": {
        "id": "cpHHjiFHnG1q",
        "colab_type": "text"
      },
      "source": [
        "#NLP Steps\n",
        "By understanding the data we will classify the given data as sarcastic or not!\n",
        "\n",
        "But to do that the general steps are need to be followed\n",
        "\n",
        "#Tokenization\n",
        "This process is the first step where the given words will be converted to different id or word_index.\n",
        "Example -- I love ML can have a following word_index [0,1,2]\n",
        "#Padding Sequences\n",
        "The padding sequence is used to have a padding value to the given sentence to make every sequence of sentence in a same length,since the neural net needs a fixed size of input."
      ]
    },
    {
      "cell_type": "code",
      "metadata": {
        "id": "3u8UB0MCkZ5N",
        "colab_type": "code",
        "colab": {}
      },
      "source": [
        "tokenizer = Tokenizer(num_words=vocab_size, oov_token=oov_tok)\n",
        "tokenizer.fit_on_texts(training_sentences)\n",
        "\n",
        "word_index = tokenizer.word_index\n",
        "\n",
        "training_sequences = tokenizer.texts_to_sequences(training_sentences)\n",
        "training_padded = pad_sequences(training_sequences, maxlen=max_length, padding=padding_type, truncating=trunc_type)\n",
        "\n",
        "testing_sequences = tokenizer.texts_to_sequences(testing_sentences)\n",
        "testing_padded = pad_sequences(testing_sequences, maxlen=max_length, padding=padding_type, truncating=trunc_type)"
      ],
      "execution_count": 0,
      "outputs": []
    },
    {
      "cell_type": "code",
      "metadata": {
        "id": "GrAlWBKf99Ya",
        "colab_type": "code",
        "colab": {}
      },
      "source": [
        "# Need this block to get it to work with TensorFlow 2.x\n",
        "import numpy as np\n",
        "training_padded = np.array(training_padded)\n",
        "training_labels = np.array(training_labels)\n",
        "testing_padded = np.array(testing_padded)\n",
        "testing_labels = np.array(testing_labels)"
      ],
      "execution_count": 0,
      "outputs": []
    },
    {
      "cell_type": "markdown",
      "metadata": {
        "id": "n23kQOa2oTPF",
        "colab_type": "text"
      },
      "source": [
        "#Model Creation\n",
        "Here we use embedding layer"
      ]
    },
    {
      "cell_type": "code",
      "metadata": {
        "id": "FufaT4vlkiDE",
        "colab_type": "code",
        "colab": {}
      },
      "source": [
        "model = tf.keras.Sequential([\n",
        "    tf.keras.layers.Embedding(vocab_size, embedding_dim, input_length=max_length),\n",
        "    tf.keras.layers.GlobalAveragePooling1D(),\n",
        "    tf.keras.layers.Dense(24, activation='relu'),\n",
        "    tf.keras.layers.Dense(1, activation='sigmoid')\n",
        "])\n",
        "model.compile(loss='binary_crossentropy',optimizer='adam',metrics=['accuracy'])"
      ],
      "execution_count": 0,
      "outputs": []
    },
    {
      "cell_type": "code",
      "metadata": {
        "id": "XfDt1hmYkiys",
        "colab_type": "code",
        "outputId": "418ee78b-f657-4959-f6e4-19bfa827f90f",
        "colab": {
          "base_uri": "https://localhost:8080/",
          "height": 289
        }
      },
      "source": [
        "model.summary()\n"
      ],
      "execution_count": 0,
      "outputs": [
        {
          "output_type": "stream",
          "text": [
            "Model: \"sequential\"\n",
            "_________________________________________________________________\n",
            "Layer (type)                 Output Shape              Param #   \n",
            "=================================================================\n",
            "embedding (Embedding)        (None, 100, 16)           160000    \n",
            "_________________________________________________________________\n",
            "global_average_pooling1d (Gl (None, 16)                0         \n",
            "_________________________________________________________________\n",
            "dense (Dense)                (None, 24)                408       \n",
            "_________________________________________________________________\n",
            "dense_1 (Dense)              (None, 1)                 25        \n",
            "=================================================================\n",
            "Total params: 160,433\n",
            "Trainable params: 160,433\n",
            "Non-trainable params: 0\n",
            "_________________________________________________________________\n"
          ],
          "name": "stdout"
        }
      ]
    },
    {
      "cell_type": "code",
      "metadata": {
        "id": "2DTKQFf1kkyc",
        "colab_type": "code",
        "outputId": "4610d4ba-0b1c-42aa-ea42-158705b72f6c",
        "colab": {
          "base_uri": "https://localhost:8080/",
          "height": 1000
        }
      },
      "source": [
        "num_epochs = 30\n",
        "history = model.fit(training_padded, training_labels, epochs=num_epochs, validation_data=(testing_padded, testing_labels), verbose=2)"
      ],
      "execution_count": 0,
      "outputs": [
        {
          "output_type": "stream",
          "text": [
            "Train on 20000 samples, validate on 6709 samples\n",
            "Epoch 1/30\n",
            "20000/20000 - 6s - loss: 0.6543 - accuracy: 0.6054 - val_loss: 0.5423 - val_accuracy: 0.8061\n",
            "Epoch 2/30\n",
            "20000/20000 - 3s - loss: 0.4030 - accuracy: 0.8424 - val_loss: 0.3753 - val_accuracy: 0.8411\n",
            "Epoch 3/30\n",
            "20000/20000 - 3s - loss: 0.2964 - accuracy: 0.8821 - val_loss: 0.3494 - val_accuracy: 0.8523\n",
            "Epoch 4/30\n",
            "20000/20000 - 3s - loss: 0.2448 - accuracy: 0.9043 - val_loss: 0.3422 - val_accuracy: 0.8550\n",
            "Epoch 5/30\n",
            "20000/20000 - 3s - loss: 0.2095 - accuracy: 0.9183 - val_loss: 0.3508 - val_accuracy: 0.8515\n",
            "Epoch 6/30\n",
            "20000/20000 - 3s - loss: 0.1827 - accuracy: 0.9313 - val_loss: 0.3938 - val_accuracy: 0.8369\n",
            "Epoch 7/30\n",
            "20000/20000 - 4s - loss: 0.1616 - accuracy: 0.9402 - val_loss: 0.3782 - val_accuracy: 0.8517\n",
            "Epoch 8/30\n",
            "20000/20000 - 4s - loss: 0.1438 - accuracy: 0.9477 - val_loss: 0.3976 - val_accuracy: 0.8524\n",
            "Epoch 9/30\n",
            "20000/20000 - 4s - loss: 0.1298 - accuracy: 0.9544 - val_loss: 0.4198 - val_accuracy: 0.8508\n",
            "Epoch 10/30\n",
            "20000/20000 - 3s - loss: 0.1165 - accuracy: 0.9588 - val_loss: 0.4501 - val_accuracy: 0.8456\n",
            "Epoch 11/30\n",
            "20000/20000 - 3s - loss: 0.1050 - accuracy: 0.9636 - val_loss: 0.5270 - val_accuracy: 0.8292\n",
            "Epoch 12/30\n",
            "20000/20000 - 3s - loss: 0.0966 - accuracy: 0.9670 - val_loss: 0.5026 - val_accuracy: 0.8427\n",
            "Epoch 13/30\n",
            "20000/20000 - 3s - loss: 0.0868 - accuracy: 0.9706 - val_loss: 0.5349 - val_accuracy: 0.8384\n",
            "Epoch 14/30\n",
            "20000/20000 - 3s - loss: 0.0776 - accuracy: 0.9743 - val_loss: 0.5674 - val_accuracy: 0.8366\n",
            "Epoch 15/30\n",
            "20000/20000 - 3s - loss: 0.0722 - accuracy: 0.9765 - val_loss: 0.6054 - val_accuracy: 0.8319\n",
            "Epoch 16/30\n",
            "20000/20000 - 3s - loss: 0.0643 - accuracy: 0.9798 - val_loss: 0.6406 - val_accuracy: 0.8305\n",
            "Epoch 17/30\n",
            "20000/20000 - 3s - loss: 0.0588 - accuracy: 0.9819 - val_loss: 0.7786 - val_accuracy: 0.8180\n",
            "Epoch 18/30\n",
            "20000/20000 - 3s - loss: 0.0550 - accuracy: 0.9824 - val_loss: 0.7146 - val_accuracy: 0.8267\n",
            "Epoch 19/30\n",
            "20000/20000 - 3s - loss: 0.0505 - accuracy: 0.9838 - val_loss: 0.7603 - val_accuracy: 0.8253\n",
            "Epoch 20/30\n",
            "20000/20000 - 3s - loss: 0.0445 - accuracy: 0.9869 - val_loss: 0.8067 - val_accuracy: 0.8240\n",
            "Epoch 21/30\n",
            "20000/20000 - 3s - loss: 0.0411 - accuracy: 0.9873 - val_loss: 0.8397 - val_accuracy: 0.8217\n",
            "Epoch 22/30\n",
            "20000/20000 - 3s - loss: 0.0360 - accuracy: 0.9898 - val_loss: 0.8917 - val_accuracy: 0.8190\n",
            "Epoch 23/30\n",
            "20000/20000 - 4s - loss: 0.0344 - accuracy: 0.9901 - val_loss: 0.9446 - val_accuracy: 0.8177\n",
            "Epoch 24/30\n",
            "20000/20000 - 3s - loss: 0.0314 - accuracy: 0.9908 - val_loss: 1.0048 - val_accuracy: 0.8138\n",
            "Epoch 25/30\n",
            "20000/20000 - 3s - loss: 0.0301 - accuracy: 0.9912 - val_loss: 1.0648 - val_accuracy: 0.8114\n",
            "Epoch 26/30\n",
            "20000/20000 - 3s - loss: 0.0278 - accuracy: 0.9919 - val_loss: 1.0648 - val_accuracy: 0.8150\n",
            "Epoch 27/30\n",
            "20000/20000 - 3s - loss: 0.0242 - accuracy: 0.9929 - val_loss: 1.1181 - val_accuracy: 0.8137\n",
            "Epoch 28/30\n",
            "20000/20000 - 3s - loss: 0.0225 - accuracy: 0.9937 - val_loss: 1.1602 - val_accuracy: 0.8132\n",
            "Epoch 29/30\n",
            "20000/20000 - 4s - loss: 0.0211 - accuracy: 0.9937 - val_loss: 1.1924 - val_accuracy: 0.8114\n",
            "Epoch 30/30\n",
            "20000/20000 - 3s - loss: 0.0194 - accuracy: 0.9940 - val_loss: 1.2701 - val_accuracy: 0.8088\n"
          ],
          "name": "stdout"
        }
      ]
    },
    {
      "cell_type": "markdown",
      "metadata": {
        "id": "bnOfjPMGogLV",
        "colab_type": "text"
      },
      "source": [
        "#Visualization \n",
        "Here we use the graphs to show the relationship between the accuracy and loss of both training and validation data."
      ]
    },
    {
      "cell_type": "code",
      "metadata": {
        "id": "2HYfBKXjkmU8",
        "colab_type": "code",
        "outputId": "effb3c53-4b63-4771-8a21-79d6b066dfe1",
        "colab": {
          "base_uri": "https://localhost:8080/",
          "height": 541
        }
      },
      "source": [
        "import matplotlib.pyplot as plt\n",
        "\n",
        "\n",
        "def plot_graphs(history, string):\n",
        "  plt.plot(history.history[string])\n",
        "  plt.plot(history.history['val_'+string])\n",
        "  plt.xlabel(\"Epochs\")\n",
        "  plt.ylabel(string)\n",
        "  plt.legend([string, 'val_'+string])\n",
        "  plt.show()\n",
        "  \n",
        "plot_graphs(history, \"accuracy\")\n",
        "plot_graphs(history, \"loss\")"
      ],
      "execution_count": 0,
      "outputs": [
        {
          "output_type": "display_data",
          "data": {
            "image/png": "[encoded data removed]",
            "text/plain": [
              "<Figure size 432x288 with 1 Axes>"
            ]
          },
          "metadata": {
            "tags": []
          }
        },
        {
          "output_type": "display_data",
          "data": {
            "image/png": "[encoded data removed]",
            "text/plain": [
              "<Figure size 432x288 with 1 Axes>"
            ]
          },
          "metadata": {
            "tags": []
          }
        }
      ]
    },
    {
      "cell_type": "code",
      "metadata": {
        "id": "7SBdAZAenvzL",
        "colab_type": "code",
        "outputId": "c3d109e0-e4ad-4938-b347-17ac451c5ecc",
        "colab": {
          "base_uri": "https://localhost:8080/",
          "height": 88
        }
      },
      "source": [
        "reverse_word_index = dict([(value, key) for (key, value) in word_index.items()])\n",
        "\n",
        "def decode_sentence(text):\n",
        "    return ' '.join([reverse_word_index.get(i, '?') for i in text])\n",
        "\n",
        "print(decode_sentence(training_padded[0]))\n",
        "print(training_sentences[2])\n",
        "print(labels[2])"
      ],
      "execution_count": 0,
      "outputs": [
        {
          "output_type": "stream",
          "text": [
            "former <OOV> store clerk sues over secret 'black <OOV> for minority shoppers ? ? ? ? ? ? ? ? ? ? ? ? ? ? ? ? ? ? ? ? ? ? ? ? ? ? ? ? ? ? ? ? ? ? ? ? ? ? ? ? ? ? ? ? ? ? ? ? ? ? ? ? ? ? ? ? ? ? ? ? ? ? ? ? ? ? ? ? ? ? ? ? ? ? ? ? ? ? ? ? ? ? ? ? ? ? ? ?\n",
            "mom starting to fear son's web series closest thing she will have to grandchild\n",
            "1\n"
          ],
          "name": "stdout"
        }
      ]
    },
    {
      "cell_type": "code",
      "metadata": {
        "id": "c9MqihtEkzQ9",
        "colab_type": "code",
        "outputId": "bfde3b34-300b-4b84-999a-e5969c9af253",
        "colab": {
          "base_uri": "https://localhost:8080/",
          "height": 34
        }
      },
      "source": [
        "e = model.layers[0]\n",
        "weights = e.get_weights()[0]\n",
        "print(weights.shape) # shape: (vocab_size, embedding_dim)\n"
      ],
      "execution_count": 0,
      "outputs": [
        {
          "output_type": "stream",
          "text": [
            "(10000, 16)\n"
          ],
          "name": "stdout"
        }
      ]
    },
    {
      "cell_type": "code",
      "metadata": {
        "id": "LoBXVffknldU",
        "colab_type": "code",
        "colab": {}
      },
      "source": [
        "import io\n",
        "\n",
        "out_v = io.open('vecs.tsv', 'w', encoding='utf-8')\n",
        "out_m = io.open('meta.tsv', 'w', encoding='utf-8')\n",
        "for word_num in range(1, vocab_size):\n",
        "  word = reverse_word_index[word_num]\n",
        "  embeddings = weights[word_num]\n",
        "  out_m.write(word + \"\\n\")\n",
        "  out_v.write('\\t'.join([str(x) for x in embeddings]) + \"\\n\")\n",
        "out_v.close()\n",
        "out_m.close()"
      ],
      "execution_count": 0,
      "outputs": []
    },
    {
      "cell_type": "code",
      "metadata": {
        "id": "U4eZ5HtVnnEE",
        "colab_type": "code",
        "colab": {}
      },
      "source": [
        "try:\n",
        "  from google.colab import files\n",
        "except ImportError:\n",
        "  pass\n",
        "else:\n",
        "  files.download('vecs.tsv')\n",
        "  files.download('meta.tsv')"
      ],
      "execution_count": 0,
      "outputs": []
    },
    {
      "cell_type": "markdown",
      "metadata": {
        "id": "NqMd-FMCpKw-",
        "colab_type": "text"
      },
      "source": [
        "#Prediction\n",
        "Here we specifiy the sentence in sarcastic and opposite way and the prediction gave show the result correctly"
      ]
    },
    {
      "cell_type": "code",
      "metadata": {
        "id": "cG8-ArY-qDcz",
        "colab_type": "code",
        "outputId": "87fb8f6b-88b6-49f2-c5ae-79a66128c83b",
        "colab": {
          "base_uri": "https://localhost:8080/",
          "height": 51
        }
      },
      "source": [
        "sentence = [\"granny starting to fear spiders in the garden might be real\", \"game of thrones season finale showing this sunday night\"]\n",
        "sequences = tokenizer.texts_to_sequences(sentence)\n",
        "padded = pad_sequences(sequences, maxlen=max_length, padding=padding_type, truncating=trunc_type)\n",
        "print(model.predict(padded))"
      ],
      "execution_count": 0,
      "outputs": [
        {
          "output_type": "stream",
          "text": [
            "[[8.0650014e-01]\n",
            " [2.5326011e-07]]\n"
          ],
          "name": "stdout"
        }
      ]
    }
  ]
}